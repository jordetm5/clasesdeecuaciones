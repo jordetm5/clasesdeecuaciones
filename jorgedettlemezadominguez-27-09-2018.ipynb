{
 "cells": [
  {
   "cell_type": "markdown",
   "metadata": {},
   "source": [
    "\n",
    "euler\n",
    "$$y_{i+1} = y_i + hf(x_i.y_i)\\\\x_{i+1}= x_i + h\\\\E = \\frac{h^2}{2!}y^k(z) = O(h^2)$$\n",
    "\n",
    "euler mejorado\n",
    "$$\\overline{y}_{i+1} = y_i + hf(x-i,y_i)\\\\ y_{i+1} = y_i + h(f(x_i.y_i)+f(x_i,\\overline{y}_{i+1}))\\\\x_{i+1}=x+h\\\\E=\\frac{h^3}{3!}y^k(z) = O(h^23)$$"
   ]
  },
  {
   "cell_type": "code",
   "execution_count": 11,
   "metadata": {},
   "outputs": [],
   "source": [
    "import numpy as np\n",
    "\n",
    "def euler(f,x,y,h,m):\n",
    "    u=np.zeros([m,2])\n",
    "    for i in range(m):\n",
    "        y=y+h*f(x,y)\n",
    "        u[i,0]=x\n",
    "        u[i,1]=y\n",
    "    return u\n",
    "\n"
   ]
  },
  {
   "cell_type": "code",
   "execution_count": 14,
   "metadata": {},
   "outputs": [
    {
     "data": {
      "image/png": "[encoded data removed]",
      "text/plain": [
       "<matplotlib.figure.Figure at 0x1dcc4592eb8>"
      ]
     },
     "metadata": {},
     "output_type": "display_data"
    }
   ],
   "source": [
    "import pylab as pl\n",
    "def f(x,y):\n",
    "    return y-x**2 +x+1\n",
    "u=euler(f,0,1,0.1,20)\n",
    "pl.plot(u[:,0],u[:,1],'or')\n",
    "def y(x):\n",
    "    return np.exp(x) + x**2 +x\n",
    "x=pl.arange(0,2.1,0.1)\n",
    "pl.plot(x,y(x),'ob')\n",
    "pl.grid(True)\n",
    "pl.show()"
   ]
  },
  {
   "cell_type": "code",
   "execution_count": null,
   "metadata": {
    "collapsed": true
   },
   "outputs": [],
   "source": []
  }
 ],
 "metadata": {
  "kernelspec": {
   "display_name": "Python 3",
   "language": "python",
   "name": "python3"
  },
  "language_info": {
   "codemirror_mode": {
    "name": "ipython",
    "version": 3
   },
   "file_extension": ".py",
   "mimetype": "text/x-python",
   "name": "python",
   "nbconvert_exporter": "python",
   "pygments_lexer": "ipython3",
   "version": "3.6.3"
  }
 },
 "nbformat": 4,
 "nbformat_minor": 2
}
