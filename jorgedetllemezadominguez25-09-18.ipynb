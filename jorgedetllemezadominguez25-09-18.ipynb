{
 "cells": [
  {
   "cell_type": "markdown",
   "metadata": {},
   "source": [
    "## problemas con condiciones iniciales\n",
    "\n",
    "\n",
    "resolver la ecuacion ordinaria\n",
    "\n"
   ]
  },
  {
   "cell_type": "code",
   "execution_count": 3,
   "metadata": {},
   "outputs": [
    {
     "data": {
      "text/latex": [
       "$$x{\\left (t \\right )} = C_{1} e^{\\frac{t^{2}}{2}} - 3$$"
      ],
      "text/plain": [
       "            2    \n",
       "           t     \n",
       "           ──    \n",
       "           2     \n",
       "x(t) = C₁⋅ℯ   - 3"
      ]
     },
     "execution_count": 3,
     "metadata": {},
     "output_type": "execute_result"
    }
   ],
   "source": [
    "import sympy \n",
    "sympy.init_printing(use_latex='mathjax')\n",
    "t= sympy.Symbol('t')\n",
    "x= sympy.Function('x')\n",
    "f=3*t + t*(x(t))\n",
    "Sol= sympy.dsolve(x(t).diff(t)-f)\n",
    "Sol"
   ]
  },
  {
   "cell_type": "code",
   "execution_count": 13,
   "metadata": {},
   "outputs": [
    {
     "data": {
      "text/latex": [
       "$$\\frac{3125 \\Gamma{\\left(\\frac{5}{6} \\right)}}{3 \\Gamma{\\left(\\frac{11}{6} \\right)}} {{}_{1}F_{2}\\left(\\begin{matrix} \\frac{5}{6} \\\\ \\frac{3}{2}, \\frac{11}{6} \\end{matrix}\\middle| {- \\frac{15625}{4}} \\right)}$$"
      ],
      "text/plain": [
       "             ┌─  ⎛   5/6    │         ⎞\n",
       "3125⋅Γ(5/6)⋅ ├─  ⎜          │ -15625/4⎟\n",
       "            1╵ 2 ⎝3/2, 11/6 │         ⎠\n",
       "───────────────────────────────────────\n",
       "               3⋅Γ(11/6)               "
      ]
     },
     "execution_count": 13,
     "metadata": {},
     "output_type": "execute_result"
    }
   ],
   "source": [
    "import sympy as sp\n",
    "sp.init_printing(use_latex='mathjax')\n",
    "x= sympy.Symbol('x')\n",
    "\n",
    "f=x*2 * sp.sin(x**3)\n",
    "g = sp.integrate(f,(x,0,5))\n",
    "g\n"
   ]
  },
  {
   "cell_type": "code",
   "execution_count": 31,
   "metadata": {},
   "outputs": [
    {
     "data": {
      "image/png": "[encoded data removed]",
      "text/plain": [
       "<matplotlib.figure.Figure at 0x20008929e80>"
      ]
     },
     "metadata": {},
     "output_type": "display_data"
    }
   ],
   "source": [
    "import matplotlib.pyplot as plt\n",
    "import math\n",
    "import numpy as np\n",
    "def f(x):\n",
    "    return np.exp(x) + x**2 +x\n",
    "\n",
    "x=np.arange(0.0,1.0,0.001)\n",
    "\n",
    "plt.plot(x,f(x),[0.1,0.2],[1.2152,1.4614], 'ro')\n",
    "\n",
    "plt.show()"
   ]
  },
  {
   "cell_type": "code",
   "execution_count": 35,
   "metadata": {},
   "outputs": [
    {
     "name": "stdout",
     "output_type": "stream",
     "text": [
      "[[ 0.2     1.2235]\n",
      " [ 0.3     1.4767]\n",
      " [ 0.4     1.7608]\n",
      " [ 0.5     2.0769]\n",
      " [ 0.6     2.4262]]\n"
     ]
    },
    {
     "data": {
      "image/png": "[encoded data removed]",
      "text/plain": [
       "<matplotlib.figure.Figure at 0x20008befba8>"
      ]
     },
     "metadata": {},
     "output_type": "display_data"
    }
   ],
   "source": [
    "import numpy as np\n",
    "import pylab as pl\n",
    "np.set_printoptions(precision=4)\n",
    "def taylor(f,df,x,y,h,m):\n",
    "    u=np.zeros([m,2])\n",
    "    for i in range (m):\n",
    "        y=y+h*f(x,y)+ (h**2)*df(x,y)/2\n",
    "        x=x+h\n",
    "        u[i,0]=x\n",
    "        u[i,1]=y\n",
    "    return u\n",
    "def f(x,y):\n",
    "    return y-x**2+x+1\n",
    "def df(x,y):\n",
    "    return y-x-x**2+2\n",
    "\n",
    "u=taylor(f,df,0.1,1,0.1,5)\n",
    "\n",
    "print(u)\n",
    "\n",
    "x=u[:,0]\n",
    "\n",
    "y=u[:,1]\n",
    "\n",
    "    \n",
    "pl.plot(x,y,'o')\n",
    "\n",
    "pl.show()"
   ]
  },
  {
   "cell_type": "code",
   "execution_count": 43,
   "metadata": {},
   "outputs": [
    {
     "name": "stdout",
     "output_type": "stream",
     "text": [
      "[ 0.   0.1  0.2  0.3  0.4  0.5]\n",
      "[[ 1.    ]\n",
      " [ 1.0997]\n",
      " [ 1.1975]\n",
      " [ 1.2919]\n",
      " [ 1.3818]\n",
      " [ 1.4662]]\n"
     ]
    }
   ],
   "source": [
    "from numpy import*\n",
    "from scipy.integrate import odeint\n",
    "\n",
    "def f(x,y):\n",
    "    return y-x**2+x+1\n",
    "x=np.arange(0.0,0.6,0.1)\n",
    "\n",
    "y=odeint(f,1,x)\n",
    "\n",
    "print(x)\n",
    "\n",
    "print(y)"
   ]
  },
  {
   "cell_type": "code",
   "execution_count": 41,
   "metadata": {},
   "outputs": [
    {
     "data": {
      "text/latex": [
       "$$y{\\left (0 \\right )} = C_{1}$$"
      ],
      "text/plain": [
       "y(0) = C₁"
      ]
     },
     "execution_count": 41,
     "metadata": {},
     "output_type": "execute_result"
    }
   ],
   "source": [
    "import sympy \n",
    "sympy.init_printing(use_latex='mathjax')\n",
    "x= sympy.Symbol('x')\n",
    "y= sympy.Function('y')\n",
    "f=y(x) + x - x**2 +1\n",
    "Sol= sympy.dsolve(y(x).diff(x)-f)\n",
    "Sol.subs(x,0)"
   ]
  },
  {
   "cell_type": "code",
   "execution_count": null,
   "metadata": {
    "collapsed": true
   },
   "outputs": [],
   "source": []
  }
 ],
 "metadata": {
  "kernelspec": {
   "display_name": "Python 3",
   "language": "python",
   "name": "python3"
  },
  "language_info": {
   "codemirror_mode": {
    "name": "ipython",
    "version": 3
   },
   "file_extension": ".py",
   "mimetype": "text/x-python",
   "name": "python",
   "nbconvert_exporter": "python",
   "pygments_lexer": "ipython3",
   "version": "3.6.3"
  }
 },
 "nbformat": 4,
 "nbformat_minor": 2
}
