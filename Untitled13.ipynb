{
  "nbformat": 4,
  "nbformat_minor": 0,
  "metadata": {
    "colab": {
      "name": "Untitled13.ipynb",
      "version": "0.3.2",
      "provenance": []
    },
    "kernelspec": {
      "name": "python3",
      "display_name": "Python 3"
    }
  },
  "cells": [
    {
      "metadata": {
        "id": "Xu7Q385dC4_d",
        "colab_type": "code",
        "colab": {}
      },
      "cell_type": "code",
      "source": [
        "import random \n",
        "import numpy as np\n",
        "import matplotlib.pyplot as plt\n",
        "import os\n",
        "import gzip\n",
        "\n",
        "def inipos(n,l):\n",
        "  p=np.zeros([n,3]) \n",
        "  \n",
        "  \n",
        "def inivel(n,t):\n",
        "  vel=np.random.rand(n,3)\n",
        "  return vel\n",
        "def iniforces(pos,l):\n",
        "  Forces=np.force_like(pos)\n",
        "  return Forces\n",
        "def Calforce(pos,vel,forces,l,dt)\n",
        "  return forces\n",
        "\n",
        "def update(v,p,d,dt,l,f):\n",
        "  r=np.zeros([d,3],float)\n",
        "  u=np.zeros([d,3],float)\n",
        "  for j in range (0,3):\n",
        "    for i in range (0, d-1):\n",
        "      \n",
        "      r[0,j]=p[j]\n",
        "      u[0,j]=v[j]\n",
        "      r[i+1][j] = r[i][j] + u[i][j] * dt + (Calforce(r[i][j],u[i][j],f,l)[i][j]* (dt**2)/2)\n",
        "      u[i+1][j] = u[i][j] + ((f(r[i+1][j])+f(r[i][j]))*dt/2)\n",
        "     \n",
        "  return r,u\n",
        "\n",
        "  \n",
        "n=int(input(\"ingresa numero de moleculas: \"))    \n",
        "t=int(input(\"ingresa el tiempo: \"))\n",
        "dt=0.001\n",
        "L=(N/rho)**(1.0/3.0)\n",
        "temp(1.0)\n",
        "\n",
        "d=int(t/dt)\n",
        "p=inipos(n,L)\n",
        "v=inivel(n,t)\n",
        "f=iniforces(p,L)\n",
        "l=np.arange(0.0,t,dt)\n",
        "\n",
        "Pdb=atomwrite.pdbfile(\"particulas.pdb\",L)\n",
        "for j in range(0,3):\n",
        " \n",
        "  for k in range(0,n):\n",
        "    x,y=update(v[k],p[k],d,dt,l,f)\n",
        "    w=[]\n",
        "    for i in range(0,d):\n",
        "      w.append(x[i][j])\n",
        "   \n",
        "for j in range(0,3):\n",
        "  for k in range(0,n):\n",
        "    q=[]\n",
        "    x,y=update(v[k],p[k],d,dt)\n",
        "    for i in range(0,d):\n",
        "      q.append(y[i][j])\n",
        "Pdb.close()   \n",
        "    "
      ],
      "execution_count": 0,
      "outputs": []
    },
    {
      "metadata": {
        "id": "MbxNzpMjIO8Y",
        "colab_type": "code",
        "colab": {}
      },
      "cell_type": "code",
      "source": [
        ""
      ],
      "execution_count": 0,
      "outputs": []
    },
    {
      "metadata": {
        "id": "ECR6FubyIPYA",
        "colab_type": "code",
        "colab": {}
      },
      "cell_type": "code",
      "source": [
        ""
      ],
      "execution_count": 0,
      "outputs": []
    }
  ]
}