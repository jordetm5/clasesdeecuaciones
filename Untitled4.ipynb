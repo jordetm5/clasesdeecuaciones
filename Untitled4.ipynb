{
 "cells": [
  {
   "cell_type": "code",
   "execution_count": 1,
   "metadata": {},
   "outputs": [
    {
     "data": {
      "text/latex": [
       "$$m \\frac{d^{2}}{d t^{2}}  x{\\left (t \\right )} = - k x{\\left (t \\right )}$$"
      ],
      "text/plain": [
       "    2                \n",
       "   d                 \n",
       "m⋅───(x(t)) = -k⋅x(t)\n",
       "    2                \n",
       "  dt                 "
      ]
     },
     "execution_count": 1,
     "metadata": {},
     "output_type": "execute_result"
    }
   ],
   "source": [
    "import sympy\n",
    "sympy.init_printing(use_latex='mathjax')\n",
    "p=sympy.Symbol('p', positive = True)\n",
    "k=sympy.Symbol('k', positive= True)\n",
    "m=sympy.Symbol('m', positive = True)\n",
    "t=sympy.Symbol('t', real = True)\n",
    "A=sympy.Symbol('A', positive = True)\n",
    "C1=sympy.Symbol('C1')\n",
    "C2=sympy.Symbol('C2')\n",
    "x=sympy.Symbol('x')\n",
    "phi=sympy.Symbol('phi')\n",
    "w=sympy.Symbol('w', real= True)\n",
    "f= sympy.Eq(x(t).diff(t, 2)*m, -k*x(t) )\n",
    "f"
   ]
  },
  {
   "cell_type": "code",
   "execution_count": 2,
   "metadata": {},
   "outputs": [
    {
     "data": {
      "text/latex": [
       "$$x{\\left (t \\right )} = C_{1} \\sin{\\left (\\frac{\\sqrt{k} t}{\\sqrt{m}} \\right )} + C_{2} \\cos{\\left (\\frac{\\sqrt{k} t}{\\sqrt{m}} \\right )}$$"
      ],
      "text/plain": [
       "             ⎛√k⋅t⎞         ⎛√k⋅t⎞\n",
       "x(t) = C₁⋅sin⎜────⎟ + C₂⋅cos⎜────⎟\n",
       "             ⎝ √m ⎠         ⎝ √m ⎠"
      ]
     },
     "execution_count": 2,
     "metadata": {},
     "output_type": "execute_result"
    }
   ],
   "source": [
    "g=sympy.dsolve(f,x(t))\n",
    "g"
   ]
  },
  {
   "cell_type": "code",
   "execution_count": 3,
   "metadata": {},
   "outputs": [
    {
     "data": {
      "text/latex": [
       "$$A \\cos{\\left (p \\right )}$$"
      ],
      "text/plain": [
       "A⋅cos(p)"
      ]
     },
     "execution_count": 3,
     "metadata": {},
     "output_type": "execute_result"
    }
   ],
   "source": [
    "s=sympy.Eq(C1/A, sympy.cos(p))\n",
    "r=sympy.solve(s,C1)\n",
    "o=r[0]\n",
    "o"
   ]
  },
  {
   "cell_type": "code",
   "execution_count": 4,
   "metadata": {},
   "outputs": [
    {
     "data": {
      "text/latex": [
       "$$x{\\left (t \\right )} = A \\sin{\\left (\\frac{\\sqrt{k} t}{\\sqrt{m}} \\right )} \\cos{\\left (p \\right )} + C_{2} \\cos{\\left (\\frac{\\sqrt{k} t}{\\sqrt{m}} \\right )}$$"
      ],
      "text/plain": [
       "            ⎛√k⋅t⎞                ⎛√k⋅t⎞\n",
       "x(t) = A⋅sin⎜────⎟⋅cos(p) + C₂⋅cos⎜────⎟\n",
       "            ⎝ √m ⎠                ⎝ √m ⎠"
      ]
     },
     "execution_count": 4,
     "metadata": {},
     "output_type": "execute_result"
    }
   ],
   "source": [
    "d=g.subs(C1,o)\n",
    "d"
   ]
  },
  {
   "cell_type": "code",
   "execution_count": 5,
   "metadata": {},
   "outputs": [
    {
     "data": {
      "text/latex": [
       "$$A \\sin{\\left (p \\right )}$$"
      ],
      "text/plain": [
       "A⋅sin(p)"
      ]
     },
     "execution_count": 5,
     "metadata": {},
     "output_type": "execute_result"
    }
   ],
   "source": [
    "y=sympy.Eq(A/C2, sympy.csc(p))\n",
    "z=sympy.solve(y,C2)\n",
    "u=z[0]\n",
    "u"
   ]
  },
  {
   "cell_type": "code",
   "execution_count": 6,
   "metadata": {},
   "outputs": [
    {
     "data": {
      "text/latex": [
       "$$x{\\left (t \\right )} = A \\sin{\\left (p \\right )} \\cos{\\left (\\frac{\\sqrt{k} t}{\\sqrt{m}} \\right )} + A \\sin{\\left (\\frac{\\sqrt{k} t}{\\sqrt{m}} \\right )} \\cos{\\left (p \\right )}$$"
      ],
      "text/plain": [
       "                   ⎛√k⋅t⎞        ⎛√k⋅t⎞       \n",
       "x(t) = A⋅sin(p)⋅cos⎜────⎟ + A⋅sin⎜────⎟⋅cos(p)\n",
       "                   ⎝ √m ⎠        ⎝ √m ⎠       "
      ]
     },
     "execution_count": 6,
     "metadata": {},
     "output_type": "execute_result"
    }
   ],
   "source": [
    "v=d.subs(C2,u)\n",
    "v"
   ]
  },
  {
   "cell_type": "code",
   "execution_count": 7,
   "metadata": {},
   "outputs": [
    {
     "data": {
      "text/latex": [
       "$$x{\\left (t \\right )} = A \\sin{\\left (\\frac{\\sqrt{k} t}{\\sqrt{m}} + p \\right )}$$"
      ],
      "text/plain": [
       "            ⎛√k⋅t    ⎞\n",
       "x(t) = A⋅sin⎜──── + p⎟\n",
       "            ⎝ √m     ⎠"
      ]
     },
     "execution_count": 7,
     "metadata": {},
     "output_type": "execute_result"
    }
   ],
   "source": [
    "b=sympy.trigsimp(v)\n",
    "c=sympy.trigsimp(b)\n",
    "c"
   ]
  },
  {
   "cell_type": "code",
   "execution_count": 17,
   "metadata": {},
   "outputs": [
    {
     "data": {
      "text/latex": [
       "$$\\phi + \\frac{\\pi}{2}$$"
      ],
      "text/plain": [
       "    π\n",
       "φ + ─\n",
       "    2"
      ]
     },
     "execution_count": 17,
     "metadata": {},
     "output_type": "execute_result"
    }
   ],
   "source": [
    "l=sympy.Eq(-phi+p,sympy.pi/2)\n",
    "j=sympy.solve(l,p)\n",
    "k=j[0]\n",
    "k"
   ]
  },
  {
   "cell_type": "code",
   "execution_count": 18,
   "metadata": {},
   "outputs": [
    {
     "data": {
      "text/latex": [
       "$$x{\\left (t \\right )} = - A \\sin{\\left (\\phi \\right )} \\sin{\\left (\\frac{\\sqrt{k} t}{\\sqrt{m}} \\right )} + A \\cos{\\left (\\phi \\right )} \\cos{\\left (\\frac{\\sqrt{k} t}{\\sqrt{m}} \\right )}$$"
      ],
      "text/plain": [
       "                     ⎛√k⋅t⎞               ⎛√k⋅t⎞\n",
       "x(t) = - A⋅sin(φ)⋅sin⎜────⎟ + A⋅cos(φ)⋅cos⎜────⎟\n",
       "                     ⎝ √m ⎠               ⎝ √m ⎠"
      ]
     },
     "execution_count": 18,
     "metadata": {},
     "output_type": "execute_result"
    }
   ],
   "source": [
    "m=v.subs(p,k)\n",
    "m"
   ]
  },
  {
   "cell_type": "code",
   "execution_count": 19,
   "metadata": {},
   "outputs": [
    {
     "data": {
      "text/latex": [
       "$$x{\\left (t \\right )} = A \\cos{\\left (\\frac{\\sqrt{k} t}{\\sqrt{m}} + \\phi \\right )}$$"
      ],
      "text/plain": [
       "            ⎛√k⋅t    ⎞\n",
       "x(t) = A⋅cos⎜──── + φ⎟\n",
       "            ⎝ √m     ⎠"
      ]
     },
     "execution_count": 19,
     "metadata": {},
     "output_type": "execute_result"
    }
   ],
   "source": [
    "sympy.trigsimp(m)"
   ]
  },
  {
   "cell_type": "code",
   "execution_count": null,
   "metadata": {},
   "outputs": [],
   "source": []
  }
 ],
 "metadata": {
  "kernelspec": {
   "display_name": "Python 3",
   "language": "python",
   "name": "python3"
  },
  "language_info": {
   "codemirror_mode": {
    "name": "ipython",
    "version": 3
   },
   "file_extension": ".py",
   "mimetype": "text/x-python",
   "name": "python",
   "nbconvert_exporter": "python",
   "pygments_lexer": "ipython3",
   "version": "3.6.6"
  }
 },
 "nbformat": 4,
 "nbformat_minor": 2
}
