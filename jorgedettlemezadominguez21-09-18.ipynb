{
 "cells": [
  {
   "cell_type": "code",
   "execution_count": null,
   "metadata": {
    "collapsed": true
   },
   "outputs": [],
   "source": [
    "una ecuacacion diferencial muestra el cambio respecto a unas variables que afectan a una funcion\n",
    "\n",
    "ecuaciones diferenciales ordinaris y parciales\n",
    "\n",
    "imaginemos una funcion que depende de 4 variables independientes entonces tendriamos que usar derivadas parciales\n",
    "\n",
    "el orden de las ecuaciones difereciales va a depender del orden de la derivada siendo prima la primer y n-sima la ultima\n",
    "\n",
    "las ecuaciones diferenciables son separables si se puede escribir en dos funciones, las separamos y las integramos despues\n",
    "\n",
    "ecuaciones diferenciales lineales donde con p y q son diferenciablesy lineales \n",
    "series de tayler sirve para acotar la respuesta de una integral complicada\n",
    "\n",
    "\n",
    "\n"
   ]
  },
  {
   "cell_type": "code",
   "execution_count": 4,
   "metadata": {},
   "outputs": [
    {
     "data": {
      "text/latex": [
       "$$y{\\left (x \\right )} = C_{1} e^{- x^{3}} + 2$$"
      ],
      "text/plain": [
       "             3    \n",
       "           -x     \n",
       "y(x) = C₁⋅ℯ    + 2"
      ]
     },
     "execution_count": 4,
     "metadata": {},
     "output_type": "execute_result"
    }
   ],
   "source": [
    "import sympy\n",
    "import matplotlib as plt\n",
    "from scipy import integrate\n",
    "import numpy as np\n",
    "sympy.init_printing(use_latex='mathjax')\n",
    "\n",
    "x=sympy.Symbol('x')\n",
    "y=sympy.Function('y')\n",
    "\n",
    "f= 6*x**2- 3*x**2*(y(x))\n",
    "\n",
    "sympy.Eq(y(x).diff(x), f)\n",
    "\n",
    "sympy.dsolve(y(x).diff(x)-f)\n"
   ]
  },
  {
   "cell_type": "code",
   "execution_count": 12,
   "metadata": {},
   "outputs": [
    {
     "data": {
      "text/latex": [
       "$$y{\\left (x \\right )} = \\frac{1}{\\tanh{\\left (C_{1} - \\frac{x}{2} \\right )}}$$"
      ],
      "text/plain": [
       "            1      \n",
       "y(x) = ────────────\n",
       "           ⎛     x⎞\n",
       "       tanh⎜C₁ - ─⎟\n",
       "           ⎝     2⎠"
      ]
     },
     "execution_count": 12,
     "metadata": {},
     "output_type": "execute_result"
    }
   ],
   "source": [
    "import sympy\n",
    "import matplotlib as plt\n",
    "from scipy import integrate\n",
    "import numpy as np\n",
    "sympy.init_printing(use_latex='mathjax')\n",
    "\n",
    "x=sympy.Symbol('x')\n",
    "y=sympy.Function('y')\n",
    "\n",
    "f= (((y(x))**2-1))/2\n",
    "\n",
    "sympy.Eq(y(x).diff(x), f)\n",
    "\n",
    "sympy.dsolve(y(x).diff(x)-f)\n"
   ]
  },
  {
   "cell_type": "code",
   "execution_count": null,
   "metadata": {
    "collapsed": true
   },
   "outputs": [],
   "source": []
  }
 ],
 "metadata": {
  "kernelspec": {
   "display_name": "Python 3",
   "language": "python",
   "name": "python3"
  },
  "language_info": {
   "codemirror_mode": {
    "name": "ipython",
    "version": 3
   },
   "file_extension": ".py",
   "mimetype": "text/x-python",
   "name": "python",
   "nbconvert_exporter": "python",
   "pygments_lexer": "ipython3",
   "version": "3.6.3"
  }
 },
 "nbformat": 4,
 "nbformat_minor": 2
}
